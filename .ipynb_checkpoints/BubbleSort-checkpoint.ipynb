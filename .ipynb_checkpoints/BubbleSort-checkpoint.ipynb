{
 "cells": [
  {
   "cell_type": "markdown",
   "id": "d3777bef",
   "metadata": {},
   "source": [
    "### 2. 버블 정렬 (bubble sort) 란?\n",
    "* 두 인접한 데이터를 비교해서, 앞에 있는 데이터가 뒤에 있는 데이터보다 크면, 자리를 바꾸는 정렬 알고리즘\n"
   ]
  },
  {
   "cell_type": "code",
   "execution_count": 5,
   "id": "74ce8a47",
   "metadata": {},
   "outputs": [],
   "source": [
    "def bubbleSort(data):\n",
    "    for index in range(len(data)- 1):\n",
    "        swap = False\n",
    "        for index2 in range(len(data) - index - 1):\n",
    "            if data[index2] > data[index2+1]:\n",
    "                data[index2], data[index2+1] = data[index2+1], data[index2]\n",
    "                swap = True;\n",
    "        if swap == False:\n",
    "            break\n",
    "    return data"
   ]
  },
  {
   "cell_type": "code",
   "execution_count": 6,
   "id": "6f6994d2",
   "metadata": {},
   "outputs": [
    {
     "data": {
      "text/plain": [
       "[0,\n",
       " 1,\n",
       " 2,\n",
       " 5,\n",
       " 6,\n",
       " 8,\n",
       " 9,\n",
       " 13,\n",
       " 14,\n",
       " 16,\n",
       " 17,\n",
       " 20,\n",
       " 23,\n",
       " 24,\n",
       " 25,\n",
       " 27,\n",
       " 30,\n",
       " 32,\n",
       " 33,\n",
       " 34,\n",
       " 36,\n",
       " 41,\n",
       " 43,\n",
       " 45,\n",
       " 47,\n",
       " 49,\n",
       " 54,\n",
       " 57,\n",
       " 59,\n",
       " 61,\n",
       " 62,\n",
       " 65,\n",
       " 66,\n",
       " 67,\n",
       " 70,\n",
       " 71,\n",
       " 72,\n",
       " 73,\n",
       " 74,\n",
       " 77,\n",
       " 78,\n",
       " 79,\n",
       " 81,\n",
       " 83,\n",
       " 84,\n",
       " 85,\n",
       " 88,\n",
       " 92,\n",
       " 96,\n",
       " 98]"
      ]
     },
     "execution_count": 6,
     "metadata": {},
     "output_type": "execute_result"
    }
   ],
   "source": [
    "import random\n",
    "\n",
    "data_list = random.sample(range(100), 50)\n",
    "\n",
    "bubbleSort(data_list)"
   ]
  }
 ],
 "metadata": {
  "kernelspec": {
   "display_name": "Python 3 (ipykernel)",
   "language": "python",
   "name": "python3"
  },
  "language_info": {
   "codemirror_mode": {
    "name": "ipython",
    "version": 3
   },
   "file_extension": ".py",
   "mimetype": "text/x-python",
   "name": "python",
   "nbconvert_exporter": "python",
   "pygments_lexer": "ipython3",
   "version": "3.9.7"
  }
 },
 "nbformat": 4,
 "nbformat_minor": 5
}

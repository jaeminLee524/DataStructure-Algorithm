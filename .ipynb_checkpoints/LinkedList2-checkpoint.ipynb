{
 "cells": [
  {
   "cell_type": "markdown",
   "id": "625d869b",
   "metadata": {},
   "source": [
    "### 3. 링크드 리스트의 장단점 (전통적인 C언어에서의 배열과 링크드 리스트)\n",
    "* 장점\n",
    "  - 미리 데이터 공간을 미리 할당하지 않아도 됨\n",
    "    - 배열은 **미리 데이터 공간을 할당** 해야 함\n",
    "* 단점\n",
    "  - 연결을 위한 별도 데이터 공간이 필요하므로, 저장공간 효율이 높지 않음\n",
    "  - 연결 정보를 찾는 시간이 필요하므로 접근 속도가 느림\n",
    "  - 중간 데이터 삭제시, 앞뒤 데이터의 연결을 재구성해야 하는 부가적인 작업 필요"
   ]
  },
  {
   "cell_type": "markdown",
   "id": "cdf2795d",
   "metadata": {},
   "source": [
    "### 4. 링크드 리스트의 기능1 (링크드 리스트 데이터 사이에 데이터를 추가)\n",
    "- 링크드 리스트는 유지 관리에 부가적인 구현이 필요함\n",
    "\n",
    "<img src=\"https://www.fun-coding.org/00_Images/linkedlistadd.png\" />\n",
    "(출처: wikipedia, https://en.wikipedia.org/wiki/Linked_list)"
   ]
  },
  {
   "cell_type": "code",
   "execution_count": 4,
   "id": "f30d7d72",
   "metadata": {},
   "outputs": [],
   "source": [
    "class Node:\n",
    "    def __init__(self, data, next=None):\n",
    "        self.data = data\n",
    "        self.next = next\n",
    "\n",
    "def add(data):\n",
    "    node = head\n",
    "    while node.next != None:\n",
    "        node = node.next\n",
    "    node.next = Node(data)"
   ]
  },
  {
   "cell_type": "code",
   "execution_count": 5,
   "id": "de505344",
   "metadata": {},
   "outputs": [],
   "source": [
    "node1 = Node(1)\n",
    "head = node1\n",
    "for index in range(2,10):\n",
    "    add(index)"
   ]
  },
  {
   "cell_type": "code",
   "execution_count": 6,
   "id": "f0fa5778",
   "metadata": {},
   "outputs": [
    {
     "name": "stdout",
     "output_type": "stream",
     "text": [
      "1\n",
      "2\n",
      "3\n",
      "4\n",
      "5\n",
      "6\n",
      "7\n",
      "8\n",
      "9\n"
     ]
    }
   ],
   "source": [
    "node = head\n",
    "while node.next != None:\n",
    "    print(node.data)\n",
    "    node = node.next\n",
    "print(node.data)\n"
   ]
  },
  {
   "cell_type": "markdown",
   "id": "6c146eb3",
   "metadata": {},
   "source": [
    "### 링크드 리스트 데이터 중간 삽입"
   ]
  },
  {
   "cell_type": "code",
   "execution_count": 11,
   "id": "e33277f2",
   "metadata": {},
   "outputs": [],
   "source": [
    "node3 = Node(1.5)\n",
    "\n",
    "node = head\n",
    "search = True\n",
    "while search:\n",
    "    if(node.data == 1):\n",
    "        search = False\n",
    "    else:\n",
    "        node = node.next\n",
    "node_next = node.next\n",
    "node.next = node3\n",
    "node3.next = node_next"
   ]
  },
  {
   "cell_type": "markdown",
   "id": "82dae9fb",
   "metadata": {},
   "source": [
    "### 5. 파이썬 객체지향 프로그래밍으로 링크드 리스트 구현하기"
   ]
  },
  {
   "cell_type": "code",
   "execution_count": null,
   "id": "a7d66399",
   "metadata": {},
   "outputs": [],
   "source": [
    "class Node:\n",
    "    def __init__(self, data, next=None):\n",
    "        self.data = data\n",
    "        self.next = next"
   ]
  },
  {
   "cell_type": "code",
   "execution_count": 152,
   "id": "c226506e",
   "metadata": {},
   "outputs": [],
   "source": [
    "class NodeMgmt:\n",
    "    def __init__(self, data):\n",
    "        self.head = Node(data)\n",
    "    \n",
    "    # add Node\n",
    "    def add(self, data):\n",
    "        if self.head == \"\":\n",
    "            self.head = Node(data)\n",
    "        else:\n",
    "            node = self.head\n",
    "            while node.next != None:\n",
    "                node = node.next\n",
    "            node.next = Node(data)\n",
    "        \n",
    "    # describe Node\n",
    "    def desc(self):\n",
    "        node = self.head\n",
    "        while node:\n",
    "            print(\"node.data : \", node.data)\n",
    "            node = node.next"
   ]
  },
  {
   "cell_type": "code",
   "execution_count": 153,
   "id": "c1d9b4e0",
   "metadata": {},
   "outputs": [
    {
     "name": "stdout",
     "output_type": "stream",
     "text": [
      "출력하겠습니다 <__main__.Node object at 0x000001F3063C12E0>\n",
      "node.data :  1\n"
     ]
    }
   ],
   "source": [
    "linkedList = NodeMgmt(1)\n",
    "print(\"출력하겠습니다\", linkedList.head)\n",
    "linkedList.desc()"
   ]
  },
  {
   "cell_type": "code",
   "execution_count": 154,
   "id": "19f47f05",
   "metadata": {},
   "outputs": [
    {
     "name": "stdout",
     "output_type": "stream",
     "text": [
      "node.data :  1\n",
      "node.data :  2\n",
      "node.data :  3\n",
      "node.data :  4\n",
      "node.data :  5\n",
      "node.data :  6\n",
      "node.data :  7\n",
      "node.data :  8\n",
      "node.data :  9\n"
     ]
    }
   ],
   "source": [
    "for i in range(2,10):\n",
    "    linkedList.add(i)\n",
    "linkedList.desc()"
   ]
  },
  {
   "cell_type": "markdown",
   "id": "90b79827",
   "metadata": {},
   "source": [
    "# 6. 링크드 리스트의 기능2 (특정 노드를 삭제)\n",
    "* 다음 코드는 위의 코드에서 delete 메서드만 추가한 것이므로 해당 메서드만 확인하면 됨"
   ]
  },
  {
   "cell_type": "code",
   "execution_count": 198,
   "id": "d147d90e",
   "metadata": {},
   "outputs": [],
   "source": [
    "class Node:\n",
    "    def __init__(self, data, next=None):\n",
    "        self.data = data\n",
    "        self.next = next\n",
    "    \n",
    "class NodeMgmt:\n",
    "    def __init__(self, data):\n",
    "        self.head = Node(data)\n",
    "        \n",
    "    def add(self, data):\n",
    "        if self.head == '':\n",
    "            self.head = Node(data)\n",
    "        else:\n",
    "            node = self.head\n",
    "            while node.next:\n",
    "                node = node.next\n",
    "            node.next = Node(data)\n",
    "        \n",
    "    def desc(self):\n",
    "        node = self.head\n",
    "        while node:\n",
    "            print (node.data)\n",
    "            node = node.next\n",
    "    \n",
    "    def delete(self, data):\n",
    "        if self.head == '':\n",
    "            print(\"해당 값을 가진 노드가 없습니다\")\n",
    "            return\n",
    "        \n",
    "        # delete head node\n",
    "        if(self.head.data == data):\n",
    "            temp = self.head\n",
    "            self.head = self.head.next\n",
    "            del temp\n",
    "            print(\"원하시는 노드가 삭제되었습니다\")\n",
    "        # delete the another node\n",
    "        else:\n",
    "            node = self.head\n",
    "            while(node.next != None):\n",
    "                if(node.next.data == data):\n",
    "                    temp = node.next\n",
    "                    node.next = node.next.next\n",
    "                    del temp\n",
    "                    print(\"원하시는 노드가 삭제되었습니다\")\n",
    "                    return\n",
    "                else:\n",
    "                    # 내가 찾는 node가 아니라면\n",
    "                    node = node.next"
   ]
  },
  {
   "cell_type": "code",
   "execution_count": null,
   "id": "e54a6b9b",
   "metadata": {},
   "outputs": [],
   "source": []
  },
  {
   "cell_type": "markdown",
   "id": "37739efe",
   "metadata": {},
   "source": [
    "#### 테스트를 위해 1개 노드를 만들어 봄"
   ]
  },
  {
   "cell_type": "code",
   "execution_count": 199,
   "id": "24d9bb6c",
   "metadata": {},
   "outputs": [
    {
     "name": "stdout",
     "output_type": "stream",
     "text": [
      "0\n"
     ]
    }
   ],
   "source": [
    "linkedlist1 = NodeMgmt(0)\n",
    "linkedlist1.desc()"
   ]
  },
  {
   "cell_type": "markdown",
   "id": "740e0497",
   "metadata": {},
   "source": [
    "#### head 가 살아있음을 확인"
   ]
  },
  {
   "cell_type": "code",
   "execution_count": 200,
   "id": "61b290d8",
   "metadata": {},
   "outputs": [
    {
     "data": {
      "text/plain": [
       "<__main__.Node at 0x1f306410130>"
      ]
     },
     "execution_count": 200,
     "metadata": {},
     "output_type": "execute_result"
    }
   ],
   "source": [
    "linkedlist1.head"
   ]
  },
  {
   "cell_type": "markdown",
   "id": "10d31cae",
   "metadata": {},
   "source": [
    "#### head 를 지워봄(위에서 언급한 경우의 수1)"
   ]
  },
  {
   "cell_type": "code",
   "execution_count": 201,
   "id": "2a579238",
   "metadata": {},
   "outputs": [
    {
     "name": "stdout",
     "output_type": "stream",
     "text": [
      "원하시는 노드가 삭제되었습니다\n"
     ]
    }
   ],
   "source": [
    "linkedlist1.delete(0)"
   ]
  },
  {
   "cell_type": "markdown",
   "id": "3bab6425",
   "metadata": {},
   "source": [
    "#### 다음 코드 실행시 아무것도 안나온다는 것은 linkedlist1.head 가 정상적으로 삭제되었음을 의미"
   ]
  },
  {
   "cell_type": "code",
   "execution_count": 202,
   "id": "ae8aeb54",
   "metadata": {},
   "outputs": [],
   "source": [
    "linkedlist1.head"
   ]
  },
  {
   "cell_type": "markdown",
   "id": "7c7c2405",
   "metadata": {},
   "source": [
    "#### 다시 하나의 노드를 만들어봄"
   ]
  },
  {
   "cell_type": "code",
   "execution_count": 203,
   "id": "e4de3ab2",
   "metadata": {},
   "outputs": [
    {
     "name": "stdout",
     "output_type": "stream",
     "text": [
      "0\n"
     ]
    }
   ],
   "source": [
    "linkedlist1 = NodeMgmt(0)\n",
    "linkedlist1.desc()"
   ]
  },
  {
   "cell_type": "code",
   "execution_count": 204,
   "id": "28e97253",
   "metadata": {},
   "outputs": [
    {
     "name": "stdout",
     "output_type": "stream",
     "text": [
      "0\n",
      "1\n",
      "2\n",
      "3\n",
      "4\n",
      "5\n",
      "6\n",
      "7\n",
      "8\n",
      "9\n"
     ]
    }
   ],
   "source": [
    "for data in range(1, 10):\n",
    "    linkedlist1.add(data)\n",
    "linkedlist1.desc()"
   ]
  },
  {
   "cell_type": "markdown",
   "id": "c9fd317c",
   "metadata": {},
   "source": [
    "#### 노드 중에 한개를 삭제함 (위에서 언급한 경우의 수2)"
   ]
  },
  {
   "cell_type": "code",
   "execution_count": 205,
   "id": "84aa2408",
   "metadata": {},
   "outputs": [
    {
     "name": "stdout",
     "output_type": "stream",
     "text": [
      "원하시는 노드가 삭제되었습니다\n"
     ]
    }
   ],
   "source": [
    "linkedlist1.delete(4)"
   ]
  },
  {
   "cell_type": "markdown",
   "id": "f376b0d7",
   "metadata": {},
   "source": [
    "#### 특정 노드가 삭제되었음을 알 수 있음"
   ]
  },
  {
   "cell_type": "code",
   "execution_count": 206,
   "id": "d01ddfda",
   "metadata": {},
   "outputs": [
    {
     "name": "stdout",
     "output_type": "stream",
     "text": [
      "0\n",
      "1\n",
      "2\n",
      "3\n",
      "5\n",
      "6\n",
      "7\n",
      "8\n",
      "9\n"
     ]
    }
   ],
   "source": [
    "linkedlist1.desc()"
   ]
  },
  {
   "cell_type": "code",
   "execution_count": null,
   "id": "2fab1ed1",
   "metadata": {},
   "outputs": [],
   "source": []
  }
 ],
 "metadata": {
  "kernelspec": {
   "display_name": "Python 3 (ipykernel)",
   "language": "python",
   "name": "python3"
  },
  "language_info": {
   "codemirror_mode": {
    "name": "ipython",
    "version": 3
   },
   "file_extension": ".py",
   "mimetype": "text/x-python",
   "name": "python",
   "nbconvert_exporter": "python",
   "pygments_lexer": "ipython3",
   "version": "3.9.7"
  }
 },
 "nbformat": 4,
 "nbformat_minor": 5
}

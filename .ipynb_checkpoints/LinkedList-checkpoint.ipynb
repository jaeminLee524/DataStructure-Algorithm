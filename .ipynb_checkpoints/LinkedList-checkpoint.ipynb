{
 "cells": [
  {
   "cell_type": "markdown",
   "id": "abff6d03",
   "metadata": {},
   "source": [
    "## 링크드 리스트 (Linked List)"
   ]
  },
  {
   "cell_type": "markdown",
   "id": "5df614b1",
   "metadata": {},
   "source": [
    "### 1. 링크드 리스트 (Linked List) 구조\n",
    "* 연결 리스트라고도 함\n",
    "* 배열은 순차적으로 연결된 공간에 데이터를 나열하는 데이터 구조\n",
    "* 링크드 리스트는 떨어진 곳에 존재하는 데이터를 화살표로 연결해서 관리하는 데이터 구조\n",
    "* <font color='#BF360C'>본래 C언어에서는 주요한 데이터 구조이지만, 파이썬은 리스트 타입이 링크드 리스트의 기능을 모두 지원</font>"
   ]
  },
  {
   "cell_type": "markdown",
   "id": "34c3d5a8",
   "metadata": {},
   "source": [
    "* 링크드 리스트 기본 구조와 용어\n",
    "  - 노드(Node): 데이터 저장 단위 (데이터값, 포인터) 로 구성\n",
    "  - 포인터(pointer): 각 노드 안에서, 다음이나 이전의 노드와의 연결 정보를 가지고 있는 공간\n",
    "\n",
    "<br>\n",
    "* 일반적인 링크드 리스트 형태\n",
    "<img src=\"https://www.fun-coding.org/00_Images/linkedlist.png\" />\n",
    "(출처: wikipedia, https://en.wikipedia.org/wiki/Linked_list)"
   ]
  },
  {
   "cell_type": "markdown",
   "id": "51d0b6f8",
   "metadata": {},
   "source": [
    "* 링크드 리스트 기본 구조와 용어\n",
    "  - 노드(Node): 데이터 저장 단위 (데이터값, 포인터) 로 구성\n",
    "  - 포인터(pointer): 각 노드 안에서, 다음이나 이전의 노드와의 연결 정보를 가지고 있는 공간"
   ]
  },
  {
   "cell_type": "markdown",
   "id": "dd4d8713",
   "metadata": {},
   "source": [
    "### 2. 간단한 링크드 리스트 예"
   ]
  },
  {
   "cell_type": "markdown",
   "id": "22fb63fa",
   "metadata": {},
   "source": [
    "#### Node 구현\n",
    "- 보통 파이썬에서 링크드 리스트 구현시, 파이썬 클래스를 활용함\n",
    "  - 파이썬 객체지향 문법 이해 필요"
   ]
  },
  {
   "cell_type": "code",
   "execution_count": 5,
   "id": "de8d742d",
   "metadata": {},
   "outputs": [],
   "source": [
    "class Node:\n",
    "    def __init__(self, data):\n",
    "        self.data = \"\"\n",
    "        self.next = None"
   ]
  },
  {
   "cell_type": "code",
   "execution_count": 6,
   "id": "78b32d6a",
   "metadata": {},
   "outputs": [],
   "source": [
    "class Node:\n",
    "    def __init__(self, data, next=None):\n",
    "        self.data = data\n",
    "        self.next = next"
   ]
  },
  {
   "cell_type": "markdown",
   "id": "5760b910",
   "metadata": {},
   "source": [
    "#### Node와 Node 연결하기 (포인터 활용)"
   ]
  },
  {
   "cell_type": "code",
   "execution_count": 7,
   "id": "acf5c6eb",
   "metadata": {},
   "outputs": [],
   "source": [
    "node1 = Node(1)\n",
    "node2 = Node(2)\n",
    "node1.next = node2\n",
    "head = node1"
   ]
  },
  {
   "cell_type": "markdown",
   "id": "b48cef24",
   "metadata": {},
   "source": [
    "#### 링크드 리스트로 데이터 추가하기"
   ]
  },
  {
   "cell_type": "code",
   "execution_count": 24,
   "id": "c9ab594c",
   "metadata": {},
   "outputs": [],
   "source": [
    "class Node:\n",
    "    def __init__(self, data, next=None):\n",
    "        self.data = data\n",
    "        self.next = next\n",
    "\n",
    "def add(data):\n",
    "    node = head\n",
    "    while node.next != None:\n",
    "        node = node.next\n",
    "    node.next = Node(data)"
   ]
  },
  {
   "cell_type": "code",
   "execution_count": 25,
   "id": "ffd4506c",
   "metadata": {},
   "outputs": [],
   "source": [
    "node1 = Node(1)\n",
    "head = node1\n",
    "for index in range(2, 10):\n",
    "    add(index)"
   ]
  },
  {
   "cell_type": "markdown",
   "id": "2801afdd",
   "metadata": {},
   "source": [
    "#### 링크드 리스트 데이터 출력하기(검색하기)"
   ]
  },
  {
   "cell_type": "code",
   "execution_count": 27,
   "id": "bf3ac3ca",
   "metadata": {},
   "outputs": [
    {
     "name": "stdout",
     "output_type": "stream",
     "text": [
      "현재 노드의 데이터는 :  1\n",
      "다음 노드의 주소값은 :  <__main__.Node object at 0x000001C2B8410DF0>\n",
      "현재 노드의 데이터는 :  2\n",
      "다음 노드의 주소값은 :  <__main__.Node object at 0x000001C2B8410E20>\n",
      "현재 노드의 데이터는 :  3\n",
      "다음 노드의 주소값은 :  <__main__.Node object at 0x000001C2B8410250>\n",
      "현재 노드의 데이터는 :  4\n",
      "다음 노드의 주소값은 :  <__main__.Node object at 0x000001C2B84101C0>\n",
      "현재 노드의 데이터는 :  5\n",
      "다음 노드의 주소값은 :  <__main__.Node object at 0x000001C2B8410970>\n",
      "현재 노드의 데이터는 :  6\n",
      "다음 노드의 주소값은 :  <__main__.Node object at 0x000001C2B84105B0>\n",
      "현재 노드의 데이터는 :  7\n",
      "다음 노드의 주소값은 :  <__main__.Node object at 0x000001C2B8410670>\n",
      "현재 노드의 데이터는 :  8\n",
      "다음 노드의 주소값은 :  <__main__.Node object at 0x000001C2B8410F70>\n",
      "마지막 노드의 값은 :  9\n"
     ]
    }
   ],
   "source": [
    "node = head\n",
    "while node.next != None:\n",
    "    print(\"현재 노드의 데이터는 : \" , node.data)\n",
    "    print(\"다음 노드의 주소값은 : \" , node.next)\n",
    "    node = node.next\n",
    "print(\"마지막 노드의 값은 : \" , node.data)"
   ]
  },
  {
   "cell_type": "code",
   "execution_count": null,
   "id": "ddacae7d",
   "metadata": {},
   "outputs": [],
   "source": []
  }
 ],
 "metadata": {
  "kernelspec": {
   "display_name": "Python 3 (ipykernel)",
   "language": "python",
   "name": "python3"
  },
  "language_info": {
   "codemirror_mode": {
    "name": "ipython",
    "version": 3
   },
   "file_extension": ".py",
   "mimetype": "text/x-python",
   "name": "python",
   "nbconvert_exporter": "python",
   "pygments_lexer": "ipython3",
   "version": "3.9.7"
  }
 },
 "nbformat": 4,
 "nbformat_minor": 5
}
